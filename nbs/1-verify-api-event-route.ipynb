{
 "cells": [
  {
   "cell_type": "code",
   "execution_count": 17,
   "id": "798e0dd2",
   "metadata": {},
   "outputs": [],
   "source": [
    "import requests"
   ]
  },
  {
   "cell_type": "code",
   "execution_count": 31,
   "id": "81315a41",
   "metadata": {},
   "outputs": [
    {
     "name": "stdout",
     "output_type": "stream",
     "text": [
      "http://localhost:8002/api/events/\n",
      "200\n",
      "True\n",
      "<class 'requests.models.Response'>\n",
      "<class 'dict'>\n",
      "{'results': [{'id': 3, 'page': '/test444+', 'description': 'absssss44444444'}, {'id': 2, 'page': '/test555+', 'description': 'absssss5555555'}, {'id': 1, 'page': '/test+', 'description': '11111111111111111'}], 'count': 3}\n"
     ]
    }
   ],
   "source": [
    "# get list of all\n",
    "\n",
    "import requests\n",
    "\n",
    "path = '/api/events/'\n",
    "base_url = 'http://localhost:8002'\n",
    "endpoint = f\"{base_url}{path}\"\n",
    "endpoint\n",
    "print(endpoint)\n",
    "\n",
    "rseponse = requests.get(endpoint)\n",
    "print(rseponse.status_code)\n",
    "print(rseponse.ok)\n",
    "\n",
    "if rseponse.ok:\n",
    "    print(type(rseponse))\n",
    "    data = rseponse.json()       # json() is used json objects to Python dict\n",
    "    print(type(data))\n",
    "    print(data)"
   ]
  },
  {
   "cell_type": "code",
   "execution_count": 25,
   "id": "8e0983a0",
   "metadata": {},
   "outputs": [
    {
     "name": "stdout",
     "output_type": "stream",
     "text": [
      "http://localhost:8002/api/events/2\n",
      "200\n",
      "True\n",
      "<class 'requests.models.Response'>\n",
      "<class 'dict'>\n",
      "{'id': 2, 'page': '/test555+', 'description': 'absssss5555555'}\n"
     ]
    }
   ],
   "source": [
    "# get list of one event\n",
    "\n",
    "import requests\n",
    "\n",
    "path = '/api/events/2'\n",
    "base_url = 'http://localhost:8002'\n",
    "endpoint = f\"{base_url}{path}\"\n",
    "endpoint\n",
    "print(endpoint)\n",
    "\n",
    "rseponse = requests.get(endpoint)\n",
    "print(rseponse.status_code)\n",
    "print(rseponse.ok)\n",
    "\n",
    "if rseponse.ok:\n",
    "    print(type(rseponse))\n",
    "    data = rseponse.json()       # json() is used json objects to Python dict\n",
    "    print(type(data))\n",
    "    print(data)"
   ]
  },
  {
   "cell_type": "code",
   "execution_count": 21,
   "id": "bee16aab",
   "metadata": {},
   "outputs": [
    {
     "name": "stdout",
     "output_type": "stream",
     "text": [
      "http://localhost:8002/api/events/\n",
      "before json dump <class 'dict'>\n",
      "after json dump <class 'str'>\n",
      "{'date': 'Sun, 08 Jun 2025 05:25:32 GMT', 'server': 'uvicorn', 'content-length': '59', 'content-type': 'application/json'}\n",
      "response.ok True\n",
      "{'id': 3, 'page': '/test444+', 'description': 'absssss44444444'} <class 'dict'> None\n"
     ]
    }
   ],
   "source": [
    "# post endpoint\n",
    "\n",
    "import json\n",
    "path = '/api/events/'\n",
    "base_url = 'http://localhost:8002'\n",
    "endpoint = f\"{base_url}{path}\"\n",
    "endpoint\n",
    "print(endpoint)\n",
    "\n",
    "data = {\"page\":\"/test444+\",\"description\":'absssss44444444'}\n",
    "\n",
    "print(\"before json dump\",type(data))\n",
    "data_json = json.dumps(data)          # convert dict data type to string\n",
    "print(\"after json dump\",type(data_json))\n",
    "\n",
    "response = requests.post(endpoint, data=json.dumps(data), headers={'Content-Type': 'application/json'})\n",
    "print(response.headers)\n",
    "print(\"response.ok\",response.ok)\n",
    "if response.ok:\n",
    "    data = response.json()  \n",
    "    print(data,type(data),data.get('items'))\n",
    "else:\n",
    "    print(\"ssssss\",response.text)"
   ]
  },
  {
   "cell_type": "code",
   "execution_count": 30,
   "id": "35d85b63",
   "metadata": {},
   "outputs": [
    {
     "name": "stdout",
     "output_type": "stream",
     "text": [
      "http://localhost:8002/api/events/1\n",
      "{'date': 'Sun, 08 Jun 2025 06:41:14 GMT', 'server': 'uvicorn', 'content-length': '58', 'content-type': 'application/json'}\n",
      "response.ok True\n",
      "{'id': 1, 'page': '/test+', 'description': '11111111111111111'} <class 'dict'> None\n"
     ]
    }
   ],
   "source": [
    "# put endpoint\n",
    "\n",
    "import json\n",
    "detail_path = '/api/events/1'\n",
    "base_url = 'http://localhost:8002'\n",
    "detail_endpoint = f\"{base_url}{detail_path}\"\n",
    "\n",
    "print(detail_endpoint)\n",
    "\n",
    "response = requests.put(detail_endpoint, json={\"description\":\"11111111111111111\"})\n",
    "print(response.headers)\n",
    "print(\"response.ok\",response.ok)\n",
    "if response.ok:\n",
    "    data = response.json()  \n",
    "    print(data,type(data),data.get('items'))\n",
    "else:\n",
    "    print(\"ssssss\",response.text)"
   ]
  },
  {
   "cell_type": "code",
   "execution_count": null,
   "id": "dd91579e",
   "metadata": {},
   "outputs": [],
   "source": [
    "# add data to database "
   ]
  }
 ],
 "metadata": {
  "kernelspec": {
   "display_name": "Python 3",
   "language": "python",
   "name": "python3"
  },
  "language_info": {
   "codemirror_mode": {
    "name": "ipython",
    "version": 3
   },
   "file_extension": ".py",
   "mimetype": "text/x-python",
   "name": "python",
   "nbconvert_exporter": "python",
   "pygments_lexer": "ipython3",
   "version": "3.12.3"
  }
 },
 "nbformat": 4,
 "nbformat_minor": 5
}
